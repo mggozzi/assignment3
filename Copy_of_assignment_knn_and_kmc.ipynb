{
  "cells": [
    {
      "cell_type": "markdown",
      "metadata": {
        "id": "view-in-github",
        "colab_type": "text"
      },
      "source": [
        "<a href=\"https://colab.research.google.com/github/mggozzi/assignment3/blob/main/Copy_of_assignment_knn_and_kmc.ipynb\" target=\"_parent\"><img src=\"https://colab.research.google.com/assets/colab-badge.svg\" alt=\"Open In Colab\"/></a>"
      ]
    },
    {
      "cell_type": "markdown",
      "id": "f7ef20f0-722f-4240-8a79-437d4a3b8832",
      "metadata": {
        "id": "f7ef20f0-722f-4240-8a79-437d4a3b8832"
      },
      "source": [
        "## Assignment 3: $k$ Nearest Neighbor and $k$ Means Clustering\n",
        "\n",
        "## **Do three questions.**\n",
        "\n",
        "`! git clone https://www.github.com/DS3001/assignment3`"
      ]
    },
    {
      "cell_type": "code",
      "source": [
        "! git clone https://www.github.com/DS3001/assignment3"
      ],
      "metadata": {
        "id": "WSJiRIsUxv0O",
        "outputId": "639c6164-4c3a-4dd5-c37c-87bda97e3a79",
        "colab": {
          "base_uri": "https://localhost:8080/"
        }
      },
      "id": "WSJiRIsUxv0O",
      "execution_count": 1,
      "outputs": [
        {
          "output_type": "stream",
          "name": "stdout",
          "text": [
            "Cloning into 'assignment3'...\n",
            "warning: redirecting to https://github.com/DS3001/assignment3.git/\n",
            "remote: Enumerating objects: 14, done.\u001b[K\n",
            "remote: Counting objects: 100% (7/7), done.\u001b[K\n",
            "remote: Compressing objects: 100% (6/6), done.\u001b[K\n",
            "remote: Total 14 (delta 2), reused 1 (delta 1), pack-reused 7\u001b[K\n",
            "Receiving objects: 100% (14/14), 868.21 KiB | 10.33 MiB/s, done.\n",
            "Resolving deltas: 100% (2/2), done.\n"
          ]
        }
      ]
    },
    {
      "cell_type": "code",
      "source": [
        "#import statements\n",
        "import numpy as np\n",
        "import pandas as pd\n",
        "import seaborn as sns\n",
        "import matplotlib.pyplot as plt\n",
        "from sklearn.cluster import KMeans\n",
        "from sklearn.neighbors import KNeighborsClassifier"
      ],
      "metadata": {
        "id": "cZd3Z06qx0Hy"
      },
      "id": "cZd3Z06qx0Hy",
      "execution_count": 2,
      "outputs": []
    },
    {
      "cell_type": "markdown",
      "id": "d0f34497-2d71-4705-ac63-c0532e545022",
      "metadata": {
        "id": "d0f34497-2d71-4705-ac63-c0532e545022"
      },
      "source": [
        "**Q1.** This question is a case study for $k$ nearest neighbor. The target variable `y` is `Purchase` and the features of interest are `Age` and `AnnualSalary`.\n",
        "\n",
        "1. Load the `./data/car_data.csv` data. Look at the head and dimensions of the data.\n",
        "2. Summarize the variables (`User.ID`, `Gender`, `Age`, `AnnualSalary`, `Purchase`). Are there any missings to clean? Convert the `Gender` categorical variable into a dummy variable that takes the value 0 for male and 1 for female. Create a matrix $X$ of predictors including `Age` and `AnnualSalary`, and an outcome $y$ equaling `Purchase`.\n",
        "3. MaxMin-normalize `Age` and `AnnualSalary` in `X`.\n",
        "4. Split the sample into a ~80% training dataset and a ~20% testing dataset.\n",
        "5. Treat this as a classification problem: The model is supposed to predict 0 or 1 for each customer, classifying them as a purchaser or non-purchaser. Use sklearn to determine the optimal number of neighbors $k$ to use.\n",
        "6. Run the model for the optimal number of neighbors on the testing data. Cross tabulate the predicted outcomes against the actual outcomes; this is called a **confusion matrix**. How often does the model predict a sale when one fails to occur? How often does the model predict no sale when one does occur? Overall, does it provide accurate predictions?\n",
        "7. Now, compute confusion matrices separately for men and women, as in part 6. Does the model make more accurate predictions for one sex or the other? Explain. (Performance of algorithms on population subgroups is a growing topic in data science.)"
      ]
    },
    {
      "cell_type": "code",
      "source": [
        "#loading the data\n",
        "df1 = pd.read_csv('./assignment3/data/car_data.csv')"
      ],
      "metadata": {
        "id": "72YAMRLvDb5x"
      },
      "id": "72YAMRLvDb5x",
      "execution_count": 4,
      "outputs": []
    },
    {
      "cell_type": "code",
      "source": [
        "#head\n",
        "df1.head()"
      ],
      "metadata": {
        "id": "Egp2k4QXD79O"
      },
      "id": "Egp2k4QXD79O",
      "execution_count": null,
      "outputs": []
    },
    {
      "cell_type": "code",
      "source": [
        "#dimensions\n",
        "df1.columns"
      ],
      "metadata": {
        "id": "HQLI0bgcD-hV"
      },
      "id": "HQLI0bgcD-hV",
      "execution_count": null,
      "outputs": []
    },
    {
      "cell_type": "code",
      "source": [
        "#summarizing the variables\n",
        "df1.describe()"
      ],
      "metadata": {
        "id": "R_rALlZfElW9"
      },
      "id": "R_rALlZfElW9",
      "execution_count": null,
      "outputs": []
    },
    {
      "cell_type": "code",
      "source": [
        "#checking for missings in gender\n",
        "df1['Gender'].value_counts()\n",
        "#nothing is missing!"
      ],
      "metadata": {
        "id": "Q1PvC-RAEp77"
      },
      "id": "Q1PvC-RAEp77",
      "execution_count": null,
      "outputs": []
    },
    {
      "cell_type": "code",
      "source": [
        "#making the gender dummy\n",
        "df1['genderDummy'] = 0\n",
        "df1.loc[df1['Gender']=='Female', 'genderDummy'] = 1\n",
        "\n",
        "#making sure it worked\n",
        "df1['genderDummy'].value_counts()"
      ],
      "metadata": {
        "id": "D_Ds-KfTE7hr"
      },
      "id": "D_Ds-KfTE7hr",
      "execution_count": null,
      "outputs": []
    },
    {
      "cell_type": "code",
      "source": [
        "#making a matrix\n",
        "vars = ['Age', 'AnnualSalary']\n",
        "X = df1.loc[:, vars]\n",
        "y = df1['Purchased']"
      ],
      "metadata": {
        "id": "sPcngTFlGELQ"
      },
      "id": "sPcngTFlGELQ",
      "execution_count": 23,
      "outputs": []
    },
    {
      "cell_type": "code",
      "source": [
        "#maxmin normalizing age and annualsalary\n",
        "\n",
        "def maxmin(x): #function from notes\n",
        "  x = (x-min(x))/(max(x)-min(x))\n",
        "  return x\n",
        "\n",
        "X = X.apply(maxmin)\n",
        "X.describe()"
      ],
      "metadata": {
        "id": "YQgprgFKGd_v"
      },
      "id": "YQgprgFKGd_v",
      "execution_count": null,
      "outputs": []
    },
    {
      "cell_type": "code",
      "source": [
        "# spliting into training and testing, need to import from sklearn\n",
        "from sklearn.model_selection import train_test_split\n",
        "X_train, X_test, y_train, y_test = train_test_split(X,y, test_size=0.2, random_state=100)"
      ],
      "metadata": {
        "id": "dU28NbwpMEHW"
      },
      "id": "dU28NbwpMEHW",
      "execution_count": 55,
      "outputs": []
    },
    {
      "cell_type": "code",
      "source": [
        "#finding the optimal k (from KNN notes)\n",
        "k_bar = 30\n",
        "k_grid = np.arange(1,k_bar)\n",
        "SSE = np.zeros(k_bar)\n",
        "for k in range(k_bar):\n",
        "    model = KNeighborsClassifier(n_neighbors=k+1)\n",
        "    fitted_model = model.fit(X_train,y_train)\n",
        "    y_hat = fitted_model.predict(X_test)\n",
        "    SSE[k] = np.sum( (y_test-y_hat)**2 )\n",
        "\n",
        "SSE_min = np.min(SSE) # Lowest recorded SSE\n",
        "min_index = np.where(SSE == SSE_min) # Find the indices of y that equal the minimum\n",
        "k_star = k_grid[min_index] # Find the optimal value of k\n",
        "print(k_star)\n",
        "\n",
        "#plotting to see the optimal k\n",
        "plt.plot(np.arange(0,k_bar),SSE,label='Test') # Plot SSE by k\n",
        "plt.xlabel(\"k\")\n",
        "plt.ylabel(\"SSE\")\n",
        "plt.legend(loc='lower right')\n",
        "plt.title('SSE')\n",
        "plt.show()\n",
        "\n",
        "#optimal k is seems to be 10"
      ],
      "metadata": {
        "id": "3kKSb9IuHwO4"
      },
      "id": "3kKSb9IuHwO4",
      "execution_count": null,
      "outputs": []
    },
    {
      "cell_type": "code",
      "source": [
        "#part 6, confusion matrix\n",
        "model = KNeighborsClassifier(n_neighbors=9) # creating model\n",
        "fitted_model = model.fit(X_train,y_train) # training model\n",
        "y_hat = fitted_model.predict(X_test)\n",
        "pd.crosstab(y_test, y_hat)\n",
        "\n",
        "#this is mostly accurate:\n",
        "# 104/107 of the 0's go to 0, and 78/93 1's go to 1's\n",
        "#that's a total of 182 / 200, or 0.91 / 91% accuracy rate"
      ],
      "metadata": {
        "id": "mybOfK2PMhQ0"
      },
      "id": "mybOfK2PMhQ0",
      "execution_count": null,
      "outputs": []
    },
    {
      "cell_type": "code",
      "source": [
        "#part 7, separately for m and f\n",
        "# need to resplit the the data (including Gender)\n",
        "from sklearn.model_selection import train_test_split\n",
        "vars = ['Age', 'AnnualSalary', 'Gender']\n",
        "X = df1.loc[:, vars]\n",
        "y = df1['Purchased']\n",
        "X_train, X_test, y_train, y_test = train_test_split(X,y, test_size=0.2, random_state=100)\n",
        "\n",
        "model = KNeighborsClassifier(n_neighbors = 10)\n",
        "fitted_model = model.fit(X_train.drop('Gender', axis=1),y_train)\n",
        "y_hat = fitted_model.predict(X_test.drop('Gender', axis=1))\n",
        "\n",
        "#splitting male and female\n",
        "y_hat_M = y_hat[ X_test['Gender'] == 'Male']\n",
        "y_hat_F = y_hat[ X_test['Gender'] == 'Female']\n",
        "y_M = y_test[ X_test['Gender'] == 'Male']\n",
        "y_F = y_test[ X_test['Gender'] == 'Female']"
      ],
      "metadata": {
        "id": "zcMQNyNdNgoC"
      },
      "id": "zcMQNyNdNgoC",
      "execution_count": 60,
      "outputs": []
    },
    {
      "cell_type": "code",
      "source": [
        "pd.crosstab(y_F, y_hat_F)\n",
        "\n",
        "#a total of 91/105 predictions were correct for women\n",
        "# this is equivalent to about 87% accuracy\n",
        "#this model appears to be more accurate in predicting female customer purchases\n",
        "# the difference is approximately 6%, which may not seem like a lot, but\n",
        "# it still represents a difference in prediction accuracy that could be reduced"
      ],
      "metadata": {
        "id": "5Rz4F0AhQ3gz"
      },
      "id": "5Rz4F0AhQ3gz",
      "execution_count": null,
      "outputs": []
    },
    {
      "cell_type": "code",
      "source": [
        "pd.crosstab(y_M, y_hat_M)\n",
        "\n",
        "#a total of 77/95 predictions were correct for men\n",
        "# this is equivalent to 81% accuracy"
      ],
      "metadata": {
        "id": "q2Ka7XWGQ4M9"
      },
      "id": "q2Ka7XWGQ4M9",
      "execution_count": null,
      "outputs": []
    },
    {
      "cell_type": "markdown",
      "id": "71c9e0b8-17f5-4ff9-9c76-2034bffe8d5c",
      "metadata": {
        "id": "71c9e0b8-17f5-4ff9-9c76-2034bffe8d5c"
      },
      "source": [
        "**Q2.** This question is a case study for $k$ nearest neighbor The target variable `y` is `price` and the features are `year` and `mileage`.\n",
        "\n",
        "1. Load the `./data/USA_cars_datasets.csv`. Keep the following variables and drop the rest: `price`, `year`, `mileage`. Are there any `NA`'s to handle? Look at the head and dimensions of the data.\n",
        "2. Maxmin normalize `year` and `mileage`.\n",
        "3. Split the sample into ~80% for training and ~20% for evaluation.\n",
        "4. Use the $k$NN algorithm for regression and the training data to predict `price` using `year` and `mileage` for the test set for $k=3,10,25,50,100,300$. For each value of $k$, compute the Sum of Squared Error and make a scatterplot showing the test value plotted against the predicted value. What patterns do you notice as you increase $k$?\n",
        "5. Determine the optimal $k$ for these data.\n",
        "6. Describe what happened in the plots of predicted versus actual prices as $k$ varied, taking your answer into part 6 into account. (Hint: Use the words \"underfitting\" and \"overfitting\".)"
      ]
    },
    {
      "cell_type": "code",
      "source": [
        "#loading the data\n",
        "df2 = pd.read_csv('./assignment3/data/USA_cars_datasets.csv')\n",
        "\n",
        "#dropping the other variables\n",
        "keep = ['price', 'mileage', 'year']\n",
        "clean_df = df2.filter(keep)"
      ],
      "metadata": {
        "id": "cJ6hn0DSj3tL"
      },
      "id": "cJ6hn0DSj3tL",
      "execution_count": 58,
      "outputs": []
    },
    {
      "cell_type": "code",
      "source": [
        "#head\n",
        "clean_df.head()"
      ],
      "metadata": {
        "id": "n0h397bqlDou"
      },
      "id": "n0h397bqlDou",
      "execution_count": null,
      "outputs": []
    },
    {
      "cell_type": "code",
      "source": [
        "#describe\n",
        "clean_df.describe()\n",
        "#no nans?"
      ],
      "metadata": {
        "id": "ARlZiGdNlETU"
      },
      "id": "ARlZiGdNlETU",
      "execution_count": null,
      "outputs": []
    },
    {
      "cell_type": "code",
      "source": [
        "# maxmin function\n",
        "def maxmin(x): #function from notes\n",
        "  x = (x-min(x))/(max(x)-min(x))\n",
        "  return x"
      ],
      "metadata": {
        "id": "GX6WEHW4lNUY"
      },
      "id": "GX6WEHW4lNUY",
      "execution_count": 61,
      "outputs": []
    },
    {
      "cell_type": "code",
      "source": [
        "# maxmin normalizing year and mileage\n",
        "y=clean_df['price']\n",
        "X = clean_df.loc[:,['year','mileage']] #matrix\n",
        "X = X.apply(maxmin)\n",
        "X.describe()"
      ],
      "metadata": {
        "id": "mm8j0dT0lbqw"
      },
      "id": "mm8j0dT0lbqw",
      "execution_count": null,
      "outputs": []
    },
    {
      "cell_type": "code",
      "source": [
        "#splitting into 80 / 20 training and eval\n",
        "from sklearn.model_selection import train_test_split\n",
        "\n",
        "X_train, X_test, y_train, y_test = train_test_split(X,y, test_size=0.2, random_state=100)"
      ],
      "metadata": {
        "id": "f-QEQWYgnk3I"
      },
      "id": "f-QEQWYgnk3I",
      "execution_count": 136,
      "outputs": []
    },
    {
      "cell_type": "code",
      "source": [
        "#SSE and optimal k\n",
        "k_bar = 60\n",
        "k_grid = np.arange(1,k_bar)\n",
        "SSE_train = np.zeros(k_bar)\n",
        "SSE_test = np.zeros(k_bar)\n",
        "for k in range(k_bar):\n",
        "    model = kNNRegression(n_neighbors=k+1) # Create a sk model for k\n",
        "    fitted_model = model.fit(X_train,y_train) # Train the model on our data\n",
        "    y_hat = fitted_model.predict(X_test) # Predict values for test set\n",
        "    SSE_test[k] = np.sum( (y_test-y_hat)**2 ) # Save the computed SSE\n",
        "    y_hat = fitted_model.predict(X_train) # Predict values for training set\n",
        "    SSE_train[k] = np.sum( (y_train-y_hat)**2 ) # Save the computed SSE\n",
        "\n",
        "SSE_min = np.min(SSE_test)\n",
        "min_index = np.where(SSE_test==SSE_min)\n",
        "k_star = k_grid[min_index]\n",
        "print(k_star) #optimal k"
      ],
      "metadata": {
        "colab": {
          "base_uri": "https://localhost:8080/"
        },
        "id": "ujwdvkn07StQ",
        "outputId": "ba47d5bb-e43a-4954-e8c4-88c48faacd7d"
      },
      "id": "ujwdvkn07StQ",
      "execution_count": 139,
      "outputs": [
        {
          "output_type": "stream",
          "name": "stdout",
          "text": [
            "[54]\n"
          ]
        }
      ]
    },
    {
      "cell_type": "code",
      "source": [
        "#using the KNN algorithm for regression\n",
        "from sklearn.neighbors import KNeighborsRegressor as kNNRegression"
      ],
      "metadata": {
        "id": "nq3HvEEfpMEg"
      },
      "id": "nq3HvEEfpMEg",
      "execution_count": 64,
      "outputs": []
    },
    {
      "cell_type": "code",
      "source": [
        "#function to make the plots\n",
        "\n",
        "def cars(k,data=clean_df):\n",
        "    y = clean_df['price'] # putting this into the function\n",
        "    X = clean_df.loc[:,['year','mileage']] # this one too\n",
        "\n",
        "    #Normalize:\n",
        "    X = X.apply(maxmin)\n",
        "    model = kNNRegression(n_neighbors=k)\n",
        "    fitted_model = model.fit(X,y) # Train the model on our data\n",
        "    N_x = 100\n",
        "    N_y = 100\n",
        "    total = N_x*N_y\n",
        "    grid_x = np.linspace(0,1,N_x)\n",
        "    grid_y = np.linspace(0,1,N_y)\n",
        "    xs, ys = np.meshgrid(grid_x,grid_y)\n",
        "    X = xs.reshape(total)\n",
        "    Y = ys.reshape(total)\n",
        "    x_hat = pd.DataFrame({'year':X,'mileage':Y})\n",
        "    y_hat = fitted_model.predict(x_hat)\n",
        "    x_hat['predicted_price'] = y_hat\n",
        "    this_plot = sns.scatterplot(data=x_hat,x='year',y='mileage',hue='predicted_price')\n",
        "    sns.move_legend(this_plot, \"upper left\", bbox_to_anchor=(1, 1))"
      ],
      "metadata": {
        "id": "fpMAGINExy9X"
      },
      "id": "fpMAGINExy9X",
      "execution_count": 132,
      "outputs": []
    },
    {
      "cell_type": "code",
      "source": [
        "#k=3\n",
        "cars(3, clean_df)"
      ],
      "metadata": {
        "id": "fsDFXoIkyQgT"
      },
      "id": "fsDFXoIkyQgT",
      "execution_count": null,
      "outputs": []
    },
    {
      "cell_type": "code",
      "source": [
        "#k=10\n",
        "cars(10, clean_df)"
      ],
      "metadata": {
        "id": "Fltsp4MFqFyV"
      },
      "id": "Fltsp4MFqFyV",
      "execution_count": null,
      "outputs": []
    },
    {
      "cell_type": "code",
      "source": [
        "#k=25\n",
        "cars(25, clean_df)"
      ],
      "metadata": {
        "id": "0xR9TFcZqM74"
      },
      "id": "0xR9TFcZqM74",
      "execution_count": null,
      "outputs": []
    },
    {
      "cell_type": "code",
      "source": [
        "#k=50\n",
        "cars(50, clean_df)"
      ],
      "metadata": {
        "id": "LTnX7oISqocn"
      },
      "id": "LTnX7oISqocn",
      "execution_count": null,
      "outputs": []
    },
    {
      "cell_type": "code",
      "source": [
        "#k=100\n",
        "cars(100, clean_df)"
      ],
      "metadata": {
        "id": "de9W_kXtqTqB"
      },
      "id": "de9W_kXtqTqB",
      "execution_count": null,
      "outputs": []
    },
    {
      "cell_type": "code",
      "source": [
        "#k=300\n",
        "cars(300, clean_df)"
      ],
      "metadata": {
        "id": "j5USyRGnqhGt"
      },
      "id": "j5USyRGnqhGt",
      "execution_count": null,
      "outputs": []
    },
    {
      "cell_type": "markdown",
      "id": "010b57f7-bf4f-4494-b54c-49c4f3ae3ab9",
      "metadata": {
        "id": "010b57f7-bf4f-4494-b54c-49c4f3ae3ab9"
      },
      "source": [
        "**Q3.** This question is a case study for $k$ nearest neighbor, particularly variable selection. The data for the question include (summaries reproduced here directly from the codebook):\n",
        "\n",
        "- age: age of the patient (years)\n",
        "- anaemia: decrease of red blood cells or hemoglobin (boolean)\n",
        "- high blood pressure: if the patient has hypertension (boolean)\n",
        "- creatinine phosphokinase (CPK): level of the CPK enzyme in the blood (mcg/L)\n",
        "- diabetes: if the patient has diabetes (boolean)\n",
        "- ejection fraction: percentage of blood leaving the heart at each contraction (percentage)\n",
        "- platelets: platelets in the blood (kiloplatelets/mL)\n",
        "- sex: woman or man (binary)\n",
        "- serum creatinine: level of serum creatinine in the blood (mg/dL)\n",
        "- serum sodium: level of serum sodium in the blood (mEq/L)\n",
        "- smoking: if the patient smokes or not (boolean)\n",
        "- time: follow-up period (days)\n",
        "- death event: if the patient deceased during the follow-up period (boolean)\n",
        "\n",
        "1. Load the `./data/heart_failure_clinical_records_dataset.csv`. Are there any `NA`'s to handle? use `.drop()` to remove `time` from the dataframe.\n",
        "2. Make a correlation matrix. What variables are strongly associated with a death event?\n",
        "3. For the dummy variables `anaemia`, `diabetes`, `high_blood_pressure`, `sex`, and `smoking`, compute a summary table of `DEATH_EVENT` grouped by the variable. For which variables does a higher proportion of the population die when the variable takes the value 1 rather than 0?\n",
        "4. On the basis of your answers from 2 and 3, build a matrix $X$ of the variables you think are most predictive of a death, and a variable $y$ equal to `DEATH_EVENT`.\n",
        "5. Maxmin normalize all of the variables in `X`.\n",
        "6. Split the sample into ~80% for training and ~20% for evaluation. (Try to use the same train/test split for the whole question, so that you're comparing apples to apples in the questions below.).\n",
        "7. Determine the optimal number of neighbors for a $k$NN regression for the variables you selected.\n",
        "8. OK, do steps 5 through 7 again, but use all of the variables (except `time`). Which model has a lower Sum of Squared Error? Which would you prefer to use in practice, if you had to predict `DEATH_EVENT`s? If you play with the selection of variables, how much does the SSE change for your fitted model on the test data? Are more variables better, in this case? Explain your findings."
      ]
    },
    {
      "cell_type": "markdown",
      "id": "d457e190-d273-455f-b94f-62916cb5af1c",
      "metadata": {
        "id": "d457e190-d273-455f-b94f-62916cb5af1c"
      },
      "source": [
        "**Q4.** Let's do some very basic computer vision. We're going to import the MNIST handwritten digits data and $k$NN to predict values (i.e. \"see/read\").\n",
        "\n",
        "1. To load the data, run the following code in a chunk:\n",
        "```\n",
        "from keras.datasets import mnist\n",
        "df = mnist.load_data('minst.db')\n",
        "train,test = df\n",
        "X_train, y_train = train\n",
        "X_test, y_test = test\n",
        "```\n",
        "The `y_test` and `y_train` vectors, for each index `i`, tell you want number is written in the corresponding index in `X_train[i]` and `X_test[i]`. The value of `X_train[i]` and `X_test[i]`, however, is a 28$\\times$28 array whose entries contain values between 0 and 256. Each element of the matrix is essentially a \"pixel\" and the matrix encodes a representation of a number. To visualize this, run the following code to see the first ten numbers:\n",
        "```\n",
        "import matplotlib.pyplot as plt\n",
        "import numpy as np\n",
        "np.set_printoptions(edgeitems=30, linewidth=100000)\n",
        "for i in range(5):\n",
        "    print(y_test[i],'\\n') # Print the label\n",
        "    print(X_test[i],'\\n') # Print the matrix of values\n",
        "    plt.contourf(np.rot90(X_test[i].transpose())) # Make a contour plot of the matrix values\n",
        "    plt.show()\n",
        "```\n",
        "OK, those are the data: Labels attached to handwritten digits encoded as a matrix.\n",
        "\n",
        "2. What is the shape of `X_train` and `X_test`? What is the shape of `X_train[i]` and `X_test[i]` for each index `i`? What is the shape of `y_train` and `y_test`?\n",
        "3. Use Numpy's `.reshape()` method to covert the training and testing data from a matrix into an vector of features. So, `X_test[index].reshape((1,784))` will convert the $index$-th element of `X_test` into a $28\\times 28=784$-length row vector of values, rather than a matrix. Turn `X_train` into an $N \\times 784$ matrix $X$ that is suitable for scikit-learn's kNN classifier where $N$ is the number of observations and $784=28*28$ (you could use, for example, a `for` loop).\n",
        "4. Use the reshaped `X_test` and `y_test` data to create a $k$-nearest neighbor classifier of digit. What is the optimal number of neighbors $k$? If you can't determine this, play around with different values of $k$ for your classifier.\n",
        "5. For the optimal number of neighbors, how well does your predictor perform on the test set?\n",
        "6. So, this is how computers \"see.\" They convert an image into a matrix of values, that matrix becomes a vector in a dataset, and then we deploy ML tools on it as if it was any other kind of tabular data. To make sure you follow this, invent a way to represent a color photo in matrix form, and then describe how you could convert it into tabular data. (Hint: RGB color codes provide a method of encoding a numeric value that represents a color.)"
      ]
    },
    {
      "cell_type": "markdown",
      "id": "9a83222f-16f1-47a1-bd92-91dd4bd4ab8d",
      "metadata": {
        "id": "9a83222f-16f1-47a1-bd92-91dd4bd4ab8d"
      },
      "source": [
        "**Q5.** This question is a case study for $k$ means clustering.\n",
        "\n",
        "1. Load the `airbnb_hw.csv` data. Clean `Price` along with `Beds`, `Number of Reviews`, and `Review Scores Rating`.\n",
        "2. Maxmin normalize the data and remove any `nan`'s (`KMeans` from `sklearn` doesn't accept `nan` input).\n",
        "3. Use `sklearn`'s `KMeans` module to cluster the data by `Beds`, `Number of Reviews`, and `Review Scores Rating` for `k=6`.\n",
        "4. Use `seaborn`'s `.pairplot()` to make a grid of scatterplots that show how the clustering is carried out in multiple dimensions.\n",
        "5. Use `.groupby` and `.describe` to compute the average price for each cluster. Which clusters have the highest rental prices?\n",
        "6. Use a scree plot to pick the number of clusters and repeat steps 4 and 5."
      ]
    },
    {
      "cell_type": "code",
      "source": [
        "#loading the data\n",
        "df = pd.read_csv('./assignment3/data/airbnb_hw.csv')"
      ],
      "metadata": {
        "id": "jmFUsr71gb27"
      },
      "id": "jmFUsr71gb27",
      "execution_count": 3,
      "outputs": []
    },
    {
      "cell_type": "code",
      "source": [
        "#dataframe\n",
        "df"
      ],
      "metadata": {
        "id": "cLWE0pLeifnw"
      },
      "id": "cLWE0pLeifnw",
      "execution_count": null,
      "outputs": []
    },
    {
      "cell_type": "code",
      "source": [
        "#df['Price'].unique()\n",
        "\n",
        "#getting rid of commas in Price\n",
        "df['Price'] = df['Price'].str.replace(',', '')\n",
        "\n",
        "df['Price'].unique()"
      ],
      "metadata": {
        "id": "UdBH1-tdguJ1"
      },
      "id": "UdBH1-tdguJ1",
      "execution_count": null,
      "outputs": []
    },
    {
      "cell_type": "code",
      "source": [
        "#coercing Price to numeric\n",
        "df['Price']=pd.to_numeric(df['Price'], errors='coerce')\n",
        "\n",
        "df['Price'].unique()"
      ],
      "metadata": {
        "id": "nZ5m_42hiHOt"
      },
      "id": "nZ5m_42hiHOt",
      "execution_count": null,
      "outputs": []
    },
    {
      "cell_type": "code",
      "source": [
        "df['Beds'].describe()\n",
        "\n",
        "#getting rid of nans\n"
      ],
      "metadata": {
        "colab": {
          "base_uri": "https://localhost:8080/"
        },
        "id": "Kwt7RvTEir7n",
        "outputId": "37c229d7-2c37-49da-957e-d834b213a6f0"
      },
      "id": "Kwt7RvTEir7n",
      "execution_count": 19,
      "outputs": [
        {
          "output_type": "execute_result",
          "data": {
            "text/plain": [
              "count    30393.000000\n",
              "mean         1.530089\n",
              "std          1.015359\n",
              "min          0.000000\n",
              "25%          1.000000\n",
              "50%          1.000000\n",
              "75%          2.000000\n",
              "max         16.000000\n",
              "Name: Beds, dtype: float64"
            ]
          },
          "metadata": {},
          "execution_count": 19
        }
      ]
    },
    {
      "cell_type": "markdown",
      "id": "d765b942-0ddf-4d42-adbf-8b64eeabf4c9",
      "metadata": {
        "id": "d765b942-0ddf-4d42-adbf-8b64eeabf4c9"
      },
      "source": [
        "**Q6.** This is a question about $k$ means clustering. We want to investigate how adjusting the \"noisiness\" of the data impacts the quality of the algorithm and the difficulty of picking $k$.\n",
        "\n",
        "1. Run the code below, which creates four datasets: `df0_125`, `df0_25`, `df0_5`, `df1_0`, and `df2_0`. Each data set is created by increasing the amount of `noise` (standard deviation) around the cluster centers, from `0.125` to `0.25` to `0.5` to `1.0` to `2.0`.\n",
        "\n",
        "```\n",
        "import numpy as np\n",
        "import pandas as pd\n",
        "\n",
        "def createData(noise,N=50):\n",
        "    np.random.seed(100) # Set the seed for replicability\n",
        "    # Generate (x1,x2,g) triples:\n",
        "    X1 = np.array([np.random.normal(1,noise,N),np.random.normal(1,noise,N)])\n",
        "    X2 = np.array([np.random.normal(3,noise,N),np.random.normal(2,noise,N)])\n",
        "    X3 = np.array([np.random.normal(5,noise,N),np.random.normal(3,noise,N)])\n",
        "    # Concatenate into one data frame\n",
        "    gdf1 = pd.DataFrame({'x1':X1[0,:],'x2':X1[1,:],'group':'a'})\n",
        "    gdf2 = pd.DataFrame({'x1':X2[0,:],'x2':X2[1,:],'group':'b'})\n",
        "    gdf3 = pd.DataFrame({'x1':X3[0,:],'x2':X3[1,:],'group':'c'})\n",
        "    df = pd.concat([gdf1,gdf2,gdf3],axis=0)\n",
        "    return df\n",
        "\n",
        "df0_125 = createData(0.125)\n",
        "df0_25 = createData(0.25)\n",
        "df0_5 = createData(0.5)\n",
        "df1_0 = createData(1.0)\n",
        "df2_0 = createData(2.0)\n",
        "```\n",
        "\n",
        "2. Make scatterplots of the $(X1,X2)$ points by group for each of the datasets. As the `noise` goes up from 0.125 to 2.0, what happens to the visual distinctness of the clusters?\n",
        "3. Create a scree plot for each of the datasets. Describe how the level of `noise` affects the scree plot (particularly the presence of a clear \"elbow\") and your ability to definitively select a $k$.\n",
        "4. Explain the intuition of the elbow, using this numerical simulation as an example."
      ]
    },
    {
      "cell_type": "code",
      "source": [
        "# running the code\n",
        "\n",
        "def createData(noise,N=50):\n",
        "    np.random.seed(100) # Set the seed for replicability\n",
        "    # Generate (x1,x2,g) triples:\n",
        "    X1 = np.array([np.random.normal(1,noise,N),np.random.normal(1,noise,N)])\n",
        "    X2 = np.array([np.random.normal(3,noise,N),np.random.normal(2,noise,N)])\n",
        "    X3 = np.array([np.random.normal(5,noise,N),np.random.normal(3,noise,N)])\n",
        "    # Concatenate into one data frame\n",
        "    gdf1 = pd.DataFrame({'x1':X1[0,:],'x2':X1[1,:],'group':'a'})\n",
        "    gdf2 = pd.DataFrame({'x1':X2[0,:],'x2':X2[1,:],'group':'b'})\n",
        "    gdf3 = pd.DataFrame({'x1':X3[0,:],'x2':X3[1,:],'group':'c'})\n",
        "    df = pd.concat([gdf1,gdf2,gdf3],axis=0)\n",
        "    return df\n",
        "\n",
        "df0_125 = createData(0.125)\n",
        "df0_25 = createData(0.25)\n",
        "df0_5 = createData(0.5)\n",
        "df1_0 = createData(1.0)\n",
        "df2_0 = createData(2.0)"
      ],
      "metadata": {
        "id": "vqJPgNHHy-oc"
      },
      "id": "vqJPgNHHy-oc",
      "execution_count": null,
      "outputs": []
    },
    {
      "cell_type": "code",
      "source": [
        "#scatter plot 1 --> 0.125\n",
        "sns.scatterplot(data = df0_125, x = 'x1',y='x2',hue='group',style='group')"
      ],
      "metadata": {
        "id": "cnTTE0L0zPls"
      },
      "id": "cnTTE0L0zPls",
      "execution_count": null,
      "outputs": []
    },
    {
      "cell_type": "code",
      "source": [
        "#scatterplot 2 --> 0.25\n",
        "sns.scatterplot(data = df0_25, x = 'x1',y='x2',hue='group',style='group')"
      ],
      "metadata": {
        "id": "d_tTm0fvzUn4"
      },
      "id": "d_tTm0fvzUn4",
      "execution_count": null,
      "outputs": []
    },
    {
      "cell_type": "code",
      "source": [
        "#scatterplot 3 --> 0.5\n",
        "sns.scatterplot(data = df0_5, x = 'x1',y='x2',hue='group',style='group')"
      ],
      "metadata": {
        "id": "s93wJy45zwTV"
      },
      "id": "s93wJy45zwTV",
      "execution_count": null,
      "outputs": []
    },
    {
      "cell_type": "code",
      "source": [
        "#scatterplot 4 --> 1.0\n",
        "sns.scatterplot(data = df1_0, x = 'x1',y='x2',hue='group',style='group')"
      ],
      "metadata": {
        "id": "IN1ld3ztz2aa"
      },
      "id": "IN1ld3ztz2aa",
      "execution_count": null,
      "outputs": []
    },
    {
      "cell_type": "code",
      "source": [
        "#scatterplot 5 --> 2.0\n",
        "sns.scatterplot(data = df2_0, x = 'x1',y='x2',hue='group',style='group')"
      ],
      "metadata": {
        "id": "H-Vd_BQEz9mD"
      },
      "id": "H-Vd_BQEz9mD",
      "execution_count": null,
      "outputs": []
    },
    {
      "cell_type": "markdown",
      "source": [
        "Question 2: As the noise increases, the visual distinctness of the clusters decreases.  The points in each group become less tightly grouped together, 'bleeding' into each other."
      ],
      "metadata": {
        "id": "0r0uX9Hs0H6i"
      },
      "id": "0r0uX9Hs0H6i"
    },
    {
      "cell_type": "code",
      "source": [
        "# Part 3 --> the scree plots\n",
        "\n",
        "def maxmin(x): # the max-min scalar function\n",
        "    x = (x-min(x))/(max(x)-min(x))\n",
        "    return x"
      ],
      "metadata": {
        "id": "xKO-mC8W0bA2"
      },
      "id": "xKO-mC8W0bA2",
      "execution_count": null,
      "outputs": []
    },
    {
      "cell_type": "code",
      "source": [
        "def scree(data): # function to make scree plots from notes\n",
        "\n",
        "  X = data.loc[ : , ['x1','x2'] ] # selecting data\n",
        "  X = X.apply(maxmin) # normalizing\n",
        "\n",
        "  #  making the scree plot:\n",
        "  k_bar = 15\n",
        "  k_grid = np.arange(1,k_bar+1) # range of k's\n",
        "  SSE = np.zeros(k_bar) # training error\n",
        "  for k in range(k_bar): # for indices from 0 to k_bar-1\n",
        "    model = KMeans(n_clusters=k+1, max_iter=300, n_init = 10, random_state=0) # create model for k\n",
        "    model = model.fit(X) # fitting emodel\n",
        "    SSE[k] = model.inertia_ # recording  sum of squared error for k in the SSE\n",
        "  scree_plot, axes = plt.subplots()\n",
        "  scree_plot1 = sns.lineplot(x=k_grid, y=SSE).set_title('Scree Plot') # Create scree plot\n"
      ],
      "metadata": {
        "id": "1EsdVSGy1Lm3"
      },
      "id": "1EsdVSGy1Lm3",
      "execution_count": null,
      "outputs": []
    },
    {
      "cell_type": "code",
      "source": [
        "#scree plot 1 --> 0.125\n",
        "scree(df0_125)\n",
        "#elbow clear at k=3"
      ],
      "metadata": {
        "id": "ZwIlQy0p3VWq"
      },
      "id": "ZwIlQy0p3VWq",
      "execution_count": null,
      "outputs": []
    },
    {
      "cell_type": "code",
      "source": [
        "#scree plot 2 --> 0.25\n",
        "scree (df0_25)\n",
        "#elbow clear at k=3"
      ],
      "metadata": {
        "id": "8Y7ofyYc3wTQ"
      },
      "id": "8Y7ofyYc3wTQ",
      "execution_count": null,
      "outputs": []
    },
    {
      "cell_type": "code",
      "source": [
        "#scree plot 3 --> 0.5\n",
        "scree (df0_5)\n",
        "#elbow less clear, but still identifiable at k=3"
      ],
      "metadata": {
        "id": "NHAtnAWr34we"
      },
      "id": "NHAtnAWr34we",
      "execution_count": null,
      "outputs": []
    },
    {
      "cell_type": "code",
      "source": [
        "#scree plot 4 --> 1.0\n",
        "scree (df1_0)\n",
        "#elbow not clearly identifiable, probably either k=2 or k=3"
      ],
      "metadata": {
        "id": "5zYGp5B_4FGJ"
      },
      "id": "5zYGp5B_4FGJ",
      "execution_count": null,
      "outputs": []
    },
    {
      "cell_type": "code",
      "source": [
        "#scree plot 5 --> 2.0\n",
        "scree (df2_0)\n",
        "#elbow not identifiable / unclear"
      ],
      "metadata": {
        "id": "UMPNTZhW4oFm"
      },
      "id": "UMPNTZhW4oFm",
      "execution_count": null,
      "outputs": []
    },
    {
      "cell_type": "markdown",
      "source": [
        "Question 4: In this example, increasing noise resulted in increased 'blur' between cluster groups.  When the noise was 0.125, it was very obvious which points were in which cluster.  When the noise was 2.0, it was much harder because of the large degree of overlap.  When the groups were more distinct (lower noise), the scree plot was very helpful in identifying k with the presense of a clear elbow.  The scree plot was less beneficial when the groups were less distinct (higher noise), because the elbow was not clearly identifiable."
      ],
      "metadata": {
        "id": "Nel-_VNs43Y3"
      },
      "id": "Nel-_VNs43Y3"
    },
    {
      "cell_type": "markdown",
      "id": "3c73207b-3ca0-4fe7-a561-5380f683498e",
      "metadata": {
        "id": "3c73207b-3ca0-4fe7-a561-5380f683498e"
      },
      "source": [
        "**Q7.** We looked at computer vision with $k$NN in a previous question. Can $k$ means clustering correctly group digits, even if we don't know which symbols are which?\n",
        "\n",
        "1. To load the data, run the following code in a chunk:\n",
        "```\n",
        "from keras.datasets import mnist\n",
        "df = mnist.load_data('minst.db')\n",
        "train,test = df\n",
        "X_train, y_train = train\n",
        "X_test, y_test = test\n",
        "```\n",
        "The `y_test` and `y_train` vectors, for each index `i`, tell you want number is written in the corresponding index in `X_train[i]` and `X_test[i]`. The value of `X_train[i]` and `X_test[i]`, however, is a 28$\\times$28 array whose entries contain values between 0 and 256. Each element of the matrix is essentially a \"pixel\" and the matrix encodes a representation of a number. To visualize this, run the following code to see the first ten numbers:\n",
        "```\n",
        "import matplotlib.pyplot as plt\n",
        "import numpy as np\n",
        "np.set_printoptions(edgeitems=30, linewidth=100000)\n",
        "for i in range(5):\n",
        "    print(y_test[i],'\\n') # Print the label\n",
        "    print(X_test[i],'\\n') # Print the matrix of values\n",
        "    plt.contourf(np.rot90(X_test[i].transpose())) # Make a contour plot of the matrix values\n",
        "    plt.show()\n",
        "```\n",
        "OK, those are the data: Labels attached to handwritten digits encoded as a matrix.\n",
        "\n",
        "2. What is the shape of `X_train` and `X_test`? What is the shape of `X_train[i]` and `X_test[i]` for each index `i`? What is the shape of `y_train` and `y_test`?\n",
        "3. Use Numpy's `.reshape()` method to covert the training and testing data from a matrix into an vector of features. So, `X_test[index].reshape((1,784))` will convert the $index$-th element of `X_test` into a $28\\times 28=784$-length row vector of values, rather than a matrix. Turn `X_train` into an $N \\times 784$ matrix $X$ that is suitable for scikit-learn's kNN classifier where $N$ is the number of observations and $784=28*28$ (you could use, for example, a `for` loop).\n",
        "4. Use $k$ means clustering on the reshaped `X_test` data with `k=10`.  \n",
        "5. Cross tabulate the cluster assignments with the true labels for the test set values. How good is the correspondence? What proportion of digits are clustered correctly? Which digits are the hardest to distinguish from one another? Can $k$MC recover the latent digits 0 to 9, without even knowing what those digits were?\n",
        "6. If you use a scree plot to determine the number of clusters $k$, does it pick 10 (the true number of digits), or not? If it fails to pick $k=10$, which digits does it tend to combine into the same classification?"
      ]
    }
  ],
  "metadata": {
    "kernelspec": {
      "display_name": "Python 3 (ipykernel)",
      "language": "python",
      "name": "python3"
    },
    "language_info": {
      "codemirror_mode": {
        "name": "ipython",
        "version": 3
      },
      "file_extension": ".py",
      "mimetype": "text/x-python",
      "name": "python",
      "nbconvert_exporter": "python",
      "pygments_lexer": "ipython3",
      "version": "3.10.4"
    },
    "colab": {
      "provenance": [],
      "include_colab_link": true
    }
  },
  "nbformat": 4,
  "nbformat_minor": 5
}